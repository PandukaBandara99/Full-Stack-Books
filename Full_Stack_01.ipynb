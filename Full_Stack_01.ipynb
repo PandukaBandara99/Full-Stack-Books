{
  "nbformat": 4,
  "nbformat_minor": 0,
  "metadata": {
    "colab": {
      "provenance": [],
      "toc_visible": true,
      "authorship_tag": "ABX9TyNHtqOp42MWVQpZ1jICEihy",
      "include_colab_link": true
    },
    "kernelspec": {
      "name": "python3",
      "display_name": "Python 3"
    },
    "language_info": {
      "name": "python"
    }
  },
  "cells": [
    {
      "cell_type": "markdown",
      "metadata": {
        "id": "view-in-github",
        "colab_type": "text"
      },
      "source": [
        "<a href=\"https://colab.research.google.com/github/PandukaBandara99/Full-Stack-Books/blob/main/Full_Stack_01.ipynb\" target=\"_parent\"><img src=\"https://colab.research.google.com/assets/colab-badge.svg\" alt=\"Open In Colab\"/></a>"
      ]
    },
    {
      "cell_type": "markdown",
      "source": [
        "Mahela Panduka Bandara ; <br> UG @ Dpt. of Electronic & Electrical Engineering ;<br> University of Peradeniya ;<br> 2023/05 <br><br> Email : e19039@end.pdn.ac.lk <br> LinkedIN : https://www.linkedin.com/in/pandukabandara/"
      ],
      "metadata": {
        "id": "IlLztkyhRd4U"
      }
    },
    {
      "cell_type": "markdown",
      "source": [
        "References:\n",
        "01. https://www.coursera.org/professional-certificates/ibm-full-stack-cloud-developer\n",
        "02. www.w3schools.com"
      ],
      "metadata": {
        "id": "krGjs4J9R96N"
      }
    },
    {
      "cell_type": "markdown",
      "source": [
        "# 1.0 Introduction to Cloud Computing\n",
        "\n"
      ],
      "metadata": {
        "id": "3jcmryqXRifk"
      }
    },
    {
      "cell_type": "markdown",
      "source": [
        "Cloud computing is a technology that enables users to access computing resources, such as servers, storage, applications, and services, over the internet. It offers businesses and individuals the ability to access powerful computing resources on demand, without the need for expensive hardware or infrastructure. The cloud allows for scalability, flexibility, and cost-efficiency."
      ],
      "metadata": {
        "id": "FJDT1I_3Ru0W"
      }
    },
    {
      "cell_type": "markdown",
      "source": [
        "## Technical Terms"
      ],
      "metadata": {
        "id": "3993GkIoSkAd"
      }
    },
    {
      "cell_type": "markdown",
      "source": [
        "The following technical terms and technologies are commonly associated with cloud computing:\n",
        "\n",
        "1. **Infrastructure as a Service (IaaS):** IaaS provides virtualized computing resources, such as servers, storage, and networking, on a pay-per-use basis. This allows businesses to easily scale their computing resources up or down as needed.\n",
        "\n",
        "2. **Platform as a Service (PaaS):** PaaS provides a complete platform for developing, running, and managing applications. This includes the underlying infrastructure, as well as tools and services for building, testing, and deploying applications.\n",
        "\n",
        "3. **Software as a Service (SaaS):** SaaS provides access to software applications over the internet, on a subscription basis. This eliminates the need for businesses to purchase and maintain their own software and hardware.\n",
        "\n",
        "3. **Public cloud:** Public cloud services are provided by third-party providers, and are available to anyone who wants to use them. Public cloud services are often used for non-sensitive workloads, such as web hosting and email.\n",
        "\n",
        "4. **Private cloud:** Private cloud services are provided by a single organization, and are not available to the public. Private clouds are often used for sensitive workloads, such as financial transactions and medical records.\n",
        "\n",
        "5. **Hybrid cloud:** Hybrid cloud services combine public and private cloud services, allowing organizations to keep sensitive data on their private cloud while still taking advantage of the cost savings and scalability of public cloud services.\n",
        "\n",
        "6. **Virtualization:** Virtualization is a technology that allows multiple virtual machines (VMs) to run on a single physical machine. This allows for better resource utilization and flexibility, and is a key component of cloud computing."
      ],
      "metadata": {
        "id": "gFdnJozSSuHE"
      }
    },
    {
      "cell_type": "markdown",
      "source": [
        "## Cloud Computing Architecture "
      ],
      "metadata": {
        "id": "D6pCzwDmTvev"
      }
    },
    {
      "cell_type": "markdown",
      "source": [
        "The main components of a cloud computing architecture are:\n",
        "\n",
        "1. **Clients:** Clients are devices that connect to the cloud, such as desktop computers, laptops, tablets, and smartphones. Clients use web browsers or specialized software to access cloud resources and services.\n",
        "\n",
        "2. **Frontend:** The frontend of a cloud computing architecture is the user interface that clients use to access cloud resources and services. It can be a web interface or a specialized application that interacts with the backend of the cloud.\n",
        "\n",
        "3. **Backend:** The backend of a cloud computing architecture consists of several components that work together to provide cloud resources and services. These components include:\n",
        "\n",
        "  **a.  Virtualization layer:** This layer creates virtual machines (VMs) that run on the physical servers of the cloud provider. Virtualization allows multiple VMs to run on the same physical server, which increases resource utilization and reduces costs.\n",
        "\n",
        " **b. Compute layer:** This layer provides the computing power needed to run applications and services in the cloud. It includes servers, storage, and networking components.\n",
        "\n",
        " **c. Storage layer:** This layer provides the storage resources needed to store data in the cloud. It includes several types of storage, such as block storage, file storage, and object storage.\n",
        "\n",
        " **d.** Network layer: This layer provides the networking infrastructure needed to connect the different components of the cloud computing architecture. It includes routers, switches, load balancers, and firewalls.\n",
        "\n",
        "4. Middleware: Middleware is software that connects the frontend and backend of the cloud computing architecture. It provides services such as authentication, data caching, and message queuing.\n",
        "\n",
        "5. Cloud services: Cloud services are the applications and services that run on the cloud. They can be provided by the cloud provider or by third-party developers. Cloud services can include storage services, database services, messaging services, and machine learning services."
      ],
      "metadata": {
        "id": "B_esoWFDTx8l"
      }
    },
    {
      "cell_type": "markdown",
      "source": [
        "## Elments of Cloud Security"
      ],
      "metadata": {
        "id": "kVoipqqkUYUn"
      }
    },
    {
      "cell_type": "markdown",
      "source": [
        "1. **Identity and Access Management (IAM):** IAM is a crucial element of cloud security that governs who has access to the cloud environment and what level of access they have. IAM systems include user authentication, authorization, and access control mechanisms.\n",
        "\n",
        "2. **Encryption:** Encryption is the process of converting data into an unreadable format, which can only be decrypted using a secret key. Encryption is used to protect data in transit and at rest, ensuring that data is not accessible to unauthorized users.\n",
        "\n",
        "3. **Network Security:** Network security involves securing the cloud infrastructure's network components, such as routers, switches, and firewalls. This includes implementing secure network protocols, such as Transport Layer Security (TLS), and using firewalls to prevent unauthorized access.\n",
        "\n",
        "4. **Application Security:** Application security involves securing cloud applications and services against cyber-attacks, such as SQL injection and cross-site scripting. Application security measures include input validation, access controls, and secure coding practices.\n",
        "\n",
        "5. **Physical Security:** Physical security involves securing the cloud infrastructure's physical components, such as servers and storage devices. This includes implementing access controls, surveillance, and other physical security measures.\n",
        "\n",
        "6. **Incident Response:** Incident response is a set of procedures for responding to security incidents, such as data breaches or cyber-attacks. It involves detecting, analyzing, and mitigating security threats to prevent further damage.\n",
        "\n",
        "7. **Compliance:** Compliance involves adhering to regulatory and industry standards, such as HIPAA, PCI DSS, and GDPR. Cloud providers must comply with these standards to ensure that customer data is protected."
      ],
      "metadata": {
        "id": "zNw8FyayUfwm"
      }
    },
    {
      "cell_type": "markdown",
      "source": [
        "# 2.0 Introduction to Web Development with HTML, CSS, JavaScript"
      ],
      "metadata": {
        "id": "3I6kuELPU3GM"
      }
    },
    {
      "cell_type": "markdown",
      "source": [
        "## HTML"
      ],
      "metadata": {
        "id": "n5wF5x_rU_-X"
      }
    },
    {
      "cell_type": "markdown",
      "source": [
        "HTML (Hypertext Markup Language) is the standard language used to create web pages and applications. It provides the structure and content of a webpage through a series of tags and attributes, allowing developers to create and format text, images, videos, and other media elements on the web."
      ],
      "metadata": {
        "id": "-255dXUyVPVG"
      }
    },
    {
      "cell_type": "markdown",
      "source": [
        "### 1.1  DOCTYPE"
      ],
      "metadata": {
        "id": "Yv603f_KWHkb"
      }
    },
    {
      "cell_type": "markdown",
      "source": [
        "The <!DOCTYPE html> declaration is an essential part of an HTML document that specifies the document type and version being used. It helps web browsers to interpret the HTML code correctly and display the webpage as intended. The HTML5 standard introduced the simplified <!DOCTYPE html> declaration, which is now the recommended method for declaring the document type. "
      ],
      "metadata": {
        "id": "fiUZpZsSWL2t"
      }
    },
    {
      "cell_type": "markdown",
      "source": [
        "### 1.2 HTML Basics"
      ],
      "metadata": {
        "id": "_LsRmEOuWT2g"
      }
    },
    {
      "cell_type": "markdown",
      "source": [
        "HTML Basic refers to the core set of HTML tags that are essential for creating a basic webpage"
      ],
      "metadata": {
        "id": "bOMI1ELaWv35"
      }
    },
    {
      "cell_type": "markdown",
      "source": [
        "1. ``` <html>: ``` This tag indicates the beginning and end of the HTML document.\n",
        "\n",
        "  ```\n",
        "  <html>\n",
        "     <!-- Your HTML code here -->\n",
        "  </html>\n",
        "  ```\n",
        "\n",
        "2. ```<head>: ``` This tag contains the metadata about the webpage, including the title, character set, and other important information.\n",
        "\n",
        "  ```\n",
        "  <head>\n",
        "     <title>My Webpage</title>\n",
        "     <meta charset=\"UTF-8\">\n",
        "  </head>\n",
        "  ```\n",
        "3. ```<body>:``` This tag contains the visible content of the webpage, including text, images, and other media elements.\n",
        "\n",
        "  ```\n",
        "  <body>\n",
        "    <h1>Welcome to my webpage</h1>\n",
        "    <p>This is a paragraph of text.</p>\n",
        "    <img src=\"image.jpg\" alt=\"Image Description\">\n",
        "  </body>\n",
        "  ```\n",
        "\n",
        "4. ```<h1> - <h6>:``` These tags are used for headings and subheadings.\n",
        "\n",
        "  ```\n",
        "    <h1>Main Heading</h1>\n",
        "    <h2>Subheading</h2>\n",
        "  ```\n",
        "5. ```<p>:``` This tag is used to create paragraphs of text.\n",
        "\n",
        "  ```\n",
        "    <p>This is a paragraph of text.</p>\n",
        "  ```\n",
        "\n",
        "6. ```<a>: This tag is used to create hyperlinks.```\n",
        "\n",
        "  ```\n",
        "    <a href=\"https://www.example.com\">Click here to visit example.com</a>\n",
        "  ```\n",
        "\n",
        "7. ```<img>:``` This tag is used to insert images into the webpage.\n",
        "\n",
        "  ```\n",
        "   <img src=\"image.jpg\" alt=\"Image Description\">\n",
        "  ```"
      ],
      "metadata": {
        "id": "T3_GBgmdWzhD"
      }
    },
    {
      "cell_type": "markdown",
      "source": [
        "### 1.3 Tags list"
      ],
      "metadata": {
        "id": "jGOt3TNPZbxv"
      }
    },
    {
      "cell_type": "markdown",
      "source": [
        " Tag | Description\n",
        " ----|------------\n",
        " ```<!--...-->``` |\tDefines a comment\n",
        " ```<!DOCTYPE>``` | \tDefines the document type\n",
        " ```<a>``` |\tDefines a hyperlink\n",
        " ```<abbr>``` |\tDefines an abbreviation or an acronym\n",
        " ```<acronym>```|\tNot supported in HTML5. Use ```<abbr>``` instead.\n",
        "```<address>``` |\tDefines contact information for the author/owner of a document\n",
        "```<applet>```|\tNot supported in HTML5. Use ```<embed>``` or ```<object>``` instead.Defines an embedded applet\n",
        "```<area>``` |\tDefines an area inside an image map\n",
        "```<article>``` |\tDefines an article\n",
        "```<aside>```|\tDefines content aside from the page content\n",
        "`<audio>`\t| Defines embedded sound content\n",
        "`<b>` |\tDefines bold text\n",
        "`<base>`|\tSpecifies the base URL/target for all relative URLs in a document\n",
        "`<basefont>`|\tNot supported in HTML5. Use CSS instead.Specifies a default color, size, and font for all text in a document\n",
        "`<bdi>` |\tIsolates a part of text that might be formatted in a different direction from other text outside it\n",
        "`<bdo>`\t|Overrides the current text direction\n",
        "`<big>`\t| Not supported in HTML5. Use CSS instead.Defines big text\n",
        "`<blockquote>` |\tDefines a section that is quoted from another source\n",
        "`<body>`\t| Defines the document's body\n",
        "`<br>` | \tDefines a single line break\n",
        "`<button>` |\tDefines a clickable button\n",
        "`<canvas>` |\tUsed to draw graphics, on the fly, via scripting (usually javaScript)\n",
        "`<caption>` |Defines a table caption\n",
        "`<center>`\t| Not supported in HTML5. Use CSS instead.Defines centered text\n",
        "`<cite>` | Defines the title of a work\n",
        "`<code>`\t| Defines a piece of computer code\n",
        "`<col>` |\tSpecifies column properties for each column within a `<colgroup>` element \n",
        "`<colgroup>` |\tSpecifies a group of one or more columns in a table for formatting\n",
        "`<data>` |\tAdds a machine-readable translation of a given content\n",
        "`<datalist>` |\tSpecifies a list of pre-defined options for input controls\n",
        "`<dd>` |\tDefines a description/value of a term in a description list\n",
        "`<del>` |\tDefines text that has been deleted from a document\n",
        "`<details>` |\tDefines additional details that the user can view or hide\n",
        "`<dfn>` |\tSpecifies a term that is going to be defined within the content\n",
        "`<dialog>` |\tDefines a dialog box or window\n",
        "`<dir>`|\tNot supported in HTML5. Use `<ul>` instead.Defines a directory list\n",
        "`<div>` |\tDefines a section in a document\n",
        "`<dl>` |\tDefines a description list\n",
        "`<dt>` |\tDefines a term/name in a description list\n",
        "`<em>` |\tDefines emphasized text \n",
        "`<embed>` |\tDefines a container for an external application\n",
        "`<fieldset>` |\tGroups related elements in a form\n",
        "`<figcaption>` |\tDefines a caption for a `<figure>` element\n",
        "`<figure>` |\tSpecifies self-contained content\n",
        "`<font>` |\tNot supported in HTML5. Use CSS instead.Defines font, color, and size for text\n",
        "`<footer>` |\tDefines a footer for a document or section\n",
        "`<form>`\t| Defines an HTML form for user input\n",
        "`<frame>` |\tNot supported in HTML5. Defines a window (a frame) in a frameset\n",
        "`<frameset>` |\tNot supported in HTML5.Defines a set of frames\n",
        "`<h1>` to `<h6>` |\tDefines HTML headings\n",
        "`<head>` |\tContains metadata/information for the document\n",
        "`<header>` |\tDefines a header for a document or section\n",
        "`<hr>`\t | Defines a thematic change in the content\n",
        "`<html>` |\tDefines the root of an HTML document\n",
        "`<i>` |\tDefines a part of text in an alternate voice or mood\n",
        "`<iframe>` |\tDefines an inline frame\n",
        "`<img>` |\tDefines an image\n",
        "`<input>`|\tDefines an input control\n",
        "`<ins>` |\tDefines a text that has been inserted into a document\n",
        "`<kbd>`\t | Defines keyboard input\n",
        "`<label>` |\tDefines a label for an `<input>` element\n",
        "`<legend>` |\tDefines a caption for a `<fieldset>` element\n",
        "`<li>` |\tDefines a list item\n",
        "`<link>`| \tDefines the relationship between a document and an external resource (most used to link to style sheets)\n",
        "`<main>`| \tSpecifies the main content of a document\n",
        "`<map>`|\tDefines an image map\n",
        "`<mark>` |\tDefines marked/highlighted text\n",
        "`<meta>` |\tDefines metadata about an HTML document\n",
        "`<meter>`|\tDefines a scalar measurement within a known range (a gauge)\n",
        "`<nav>`|\tDefines navigation links\n",
        "`<noframes>`|\tNot supported in HTML5.Defines an alternate content for users that do not support frames\n",
        "`<noscript>` |\tDefines an alternate content for users that do not support client-side scripts\n",
        "`<object>` |\tDefines a container for an external application\n",
        "`<ol>` |\tDefines an ordered list\n",
        "`<optgroup>` |\tDefines a group of related options in a drop-down list\n",
        "`<option>` |\tDefines an option in a drop-down list\n",
        "`<output>` |\tDefines the result of a calculation\n",
        "`<p>` | \tDefines a paragraph\n",
        "`<param>` |\tDefines a parameter for an object\n",
        "`<picture>`|\tDefines a container for multiple image resources\n",
        "`<pre>` |\tDefines preformatted text\n",
        "`<progress>` |\tRepresents the progress of a task\n",
        "`<q>` |\tDefines a short quotation\n",
        "`<rp>` |\tDefines what to show in browsers that do not support ruby annotations\n",
        "`<rt>` |\tDefines an explanation/pronunciation of characters (for East Asian typography)\n",
        "`<ruby>` |\tDefines a ruby annotation (for East Asian typography)\n",
        "`<s>` |\tDefines text that is no longer correct\n",
        "`<samp>` |\tDefines sample output from a computer program\n",
        "`<script>` |\tDefines a client-side script\n",
        "`<section>` |\tDefines a section in a document\n",
        "`<select> `|\tDefines a drop-down list\n",
        "`<small>` |\tDefines smaller text\n",
        "`<source>` |\tDefines multiple media resources for media elements (`<video>` and `<audio>`)\n",
        "`<span>` |\tDefines a section in a document\n",
        "`<strike>` |\tNot supported in HTML5. Use `<del>` or `<s>` instead.Defines strikethrough text\n",
        "`<strong>` | \tDefines important text\n",
        "`<style>` |\tDefines style information for a document\n",
        "`<sub>` |\tDefines subscripted text\n",
        "`<summary>` |\tDefines a visible heading for a `<details>` element\n",
        "`<sup>` |\tDefines superscripted text\n",
        "`<svg>` |\tDefines a container for SVG graphics\n",
        "`<table>` |\tDefines a table\n",
        "`<tbody>` |\tGroups the body content in a table\n",
        "`<td>` |\tDefines a cell in a table\n",
        "`<template>` |\tDefines a container for content that should be hidden when the page loads\n",
        "`<textarea>`|\tDefines a multiline input control (text area)\n",
        "`<tfoot>` |Groups the footer content in a table\n",
        "`<th>` |\tDefines a header cell in a table\n",
        "`<thead>` |\tGroups the header content in a table\n",
        "`<time>`|\tDefines a specific time (or datetime)\n",
        "`<title>` |\tDefines a title for the document\n",
        "`<tr>` |\tDefines a row in a table\n",
        "`<track>` |\tDefines text tracks for media elements (<video> and <audio>)\n",
        "`<tt>` | Not supported in HTML5. Use CSS instead.Defines teletype text\n",
        "`<u>` |\tDefines some text that is unarticulated and styled differently from normal text\n",
        "`<ul>`\t|Defines an unordered list\n",
        "`<var>` |\tDefines a variable\n",
        "`<video>`\t|Defines embedded video content\n",
        "`<wbr>` |\tDefines a possible line-break"
      ],
      "metadata": {
        "id": "OmWnI-4BZe7x"
      }
    },
    {
      "cell_type": "markdown",
      "source": [
        "###"
      ],
      "metadata": {
        "id": "s87stQJDfgEV"
      }
    },
    {
      "cell_type": "markdown",
      "source": [
        "HTML (Hypertext Markup Language) attributes provide additional information to HTML tags, which can help modify their behavior or appearance. HTML attributes are used to define the properties of HTML elements and add additional meaning to the content.\n",
        "\n",
        "Here are some examples of HTML attributes with their purpose and syntax:\n",
        "\n",
        "**1. `id`:** This attribute is used to assign a unique identifier to an HTML element. It can be used to link the element to a style sheet or script. The syntax is `id=\"uniqueID\"`.\n",
        "\n",
        " > Example: `<p id=\"intro\">This is an introduction.</p>`\n",
        "\n",
        "**2. `class`:** This attribute is used to assign a class name to an HTML element. It can be used to style multiple elements together. The syntax is `class=\"classname\"`.\n",
        "\n",
        ">Example: `<p class=\"important\">This is an important message.</p>`\n",
        "\n",
        "**3. `href`:** This attribute is used to define the URL of a hyperlink. The syntax is `href=\"URL\"`.\n",
        "\n",
        ">Example: `<a href=\"https://www.example.com\">Visit our website</a>`\n",
        "\n",
        "**4. `src`:** This attribute is used to define the source file of an image or multimedia content. The syntax is `src=\"filesource\"`.\n",
        "\n",
        ">Example: `<img src=\"image.jpg\" alt=\"Image\">`\n",
        "\n",
        "**5. `alt`:** This attribute is used to define alternative text for an image or multimedia content. The syntax is `alt=\"description\"`.\n",
        "\n",
        ">Example: `<img src=\"image.jpg\" alt=\"A beautiful landscape\">`\n",
        "\n",
        "**6. `title`:** This attribute is used to define a title for an HTML element, which can be displayed as a tooltip. The syntax is `title=\"text\"`.\n",
        "\n",
        ">Example: `<p title=\"Important message\">This is an important message.</p>`\n",
        "\n",
        "**7. `target`:** This attribute is used to define the target of a hyperlink. The syntax is `target=\"_blank\"` for opening the link in a new window or `_self` for opening the link in the same window.\n",
        "\n",
        ">Example: `<a href=\"https://www.example.com\" target=\"_blank\">Visit our website</a>`\n",
        "\n"
      ],
      "metadata": {
        "id": "l5DneWX8fifQ"
      }
    },
    {
      "cell_type": "markdown",
      "source": [
        "### 1.4 Headings"
      ],
      "metadata": {
        "id": "6sYpedHwhQ-g"
      }
    },
    {
      "cell_type": "markdown",
      "source": [
        "HTML headings are used to define the heading or title of a section in a web page. They are represented by the `<h1>` to `<h6>` tags, with `<h1>` being the most important and `<h6>` being the least important.\n",
        "\n",
        "Example of how to use HTML headings:\n",
        "\n",
        "```\n",
        "<!DOCTYPE html>\n",
        "<html>\n",
        "  <head>\n",
        "    <title>Example HTML Headings</title>\n",
        "  </head>\n",
        "  <body>\n",
        "    <h1>This is the main heading</h1>\n",
        "    <p>This is some paragraph text.</p>\n",
        "    <h2>This is a sub-heading</h2>\n",
        "    <p>This is some more paragraph text.</p>\n",
        "    <h3>This is a sub-sub-heading</h3>\n",
        "    <p>Yet more paragraph text.</p>\n",
        "  </body>\n",
        "</html>\n",
        "```\n",
        "\n",
        "In this example, we have used the `<h1>` tag to create the main heading of the page, followed by two sub-headings using the `<h2>` and `<h3>` tags. The text content for each heading is inserted between the opening and closing tags. After each heading, we have inserted some paragraph text using the `<p>` tag.\n",
        "\n",
        "When you view this example in a web browser, you will see that the main heading is displayed in a larger font size than the sub-headings, and the sub-headings are displayed in a larger font size than the paragraph text. The use of headings not only helps to organize the content of a web page, but also makes it more accessible for users who rely on assistive technologies like screen readers."
      ],
      "metadata": {
        "id": "xRwfSQWIiUDf"
      }
    },
    {
      "cell_type": "markdown",
      "source": [
        "---------------------------------------\n",
        "\n",
        "<html>\n",
        "  <head>\n",
        "    <title>Example HTML Headings</title>\n",
        "  </head>\n",
        "  <body>\n",
        "    <h1>This is the main heading</h1>\n",
        "    <p>This is some paragraph text.</p>\n",
        "    <h2>This is a sub-heading</h2>\n",
        "    <p>This is some more paragraph text.</p>\n",
        "    <h3>This is a sub-sub-heading</h3>\n",
        "    <p>Yet more paragraph text.</p>\n",
        "  </body>\n",
        "</html>\n",
        "\n",
        "----------------------------------------"
      ],
      "metadata": {
        "id": "jo7EORJ8if_A"
      }
    },
    {
      "cell_type": "markdown",
      "source": [
        "### 1.5 HTML Paragraphs\n"
      ],
      "metadata": {
        "id": "WfZi2I2Ji8RZ"
      }
    },
    {
      "cell_type": "markdown",
      "source": [
        "In HTML, paragraphs are used to group together related text content. They are represented by the `<p>` tag.\n",
        "\n",
        "Here's an example of how to use HTML paragraphs:\n",
        "\n",
        "```\n",
        "<!DOCTYPE html>\n",
        "<html>\n",
        "  <head>\n",
        "    <title>Example HTML Paragraphs</title>\n",
        "  </head>\n",
        "  <body>\n",
        "    <h1>Heading</h1>\n",
        "    <p>This is a paragraph.</p>\n",
        "    <p>This is another paragraph.</p>\n",
        "    <p>Here's a third paragraph.</p>\n",
        "  </body>\n",
        "</html>\n",
        "```\n",
        "\n",
        "In this example, we have used the `<p>` tag to create three separate paragraphs of text. The text content for each paragraph is inserted between the opening and closing tags.\n",
        "\n",
        "When you view this example in a web browser, you will see that each paragraph is separated from the others by a blank line, making it easier to distinguish between them. Paragraphs are often used to break up large blocks of text into more manageable sections, making the content easier to read and understand.\n",
        "\n",
        "In addition to the `<p>` tag, there are also other tags in HTML that can be used to format text content, such as `<strong>` for bold text, `<em>` for italicized text, and `<u>` for underlined text. These tags can be used in conjunction with paragraphs to further enhance the appearance of text content on a web page."
      ],
      "metadata": {
        "id": "r3ThxalOjHk9"
      }
    },
    {
      "cell_type": "markdown",
      "source": [
        "---\n",
        "<html>\n",
        "  <head>\n",
        "    <title>Example HTML Paragraphs</title>\n",
        "  </head>\n",
        "  <body>\n",
        "    <h1>Heading</h1>\n",
        "    <p>This is a paragraph.</p>\n",
        "    <p>This is another paragraph.</p>\n",
        "    <p>Here's a third paragraph.</p>\n",
        "  </body>\n",
        "</html>\n",
        "\n",
        "---"
      ],
      "metadata": {
        "id": "zYK6mue_jRZr"
      }
    },
    {
      "cell_type": "markdown",
      "source": [
        "### Example 1.1"
      ],
      "metadata": {
        "id": "QATdu7P-gh7i"
      }
    },
    {
      "cell_type": "markdown",
      "source": [
        "```\n",
        "<!DOCTYPE html>\n",
        "<html>\n",
        "  <head>\n",
        "    <title>Example HTML Page</title>\n",
        "    <meta charset=\"UTF-8\">\n",
        "    <meta name=\"viewport\" content=\"width=device-width, initial-scale=1.0\">\n",
        "    <link rel=\"stylesheet\" href=\"style.css\">\n",
        "  </head>\n",
        "  <body>\n",
        "    <header>\n",
        "      <h1>My Website</h1>\n",
        "      <nav>\n",
        "        <ul>\n",
        "          <li><a href=\"#about\">About</a></li>\n",
        "          <li><a href=\"#services\">Services</a></li>\n",
        "          <li><a href=\"#contact\">Contact</a></li>\n",
        "        </ul>\n",
        "      </nav>\n",
        "    </header>\n",
        "    <main>\n",
        "      <section id=\"about\">\n",
        "        <h2>About Us</h2>\n",
        "        <p>Lorem ipsum dolor sit amet, consectetur adipiscing elit.</p>\n",
        "        <img src=\"image.jpg\" alt=\"Image\">\n",
        "      </section>\n",
        "      <section id=\"services\">\n",
        "        <h2>Our Services</h2>\n",
        "        <ul>\n",
        "          <li>Web Design</li>\n",
        "          <li>Graphic Design</li>\n",
        "          <li>SEO</li>\n",
        "        </ul>\n",
        "      </section>\n",
        "      <section id=\"contact\">\n",
        "        <h2>Contact Us</h2>\n",
        "        <form action=\"submit-form.php\" method=\"post\">\n",
        "          <label for=\"name\">Name:</label>\n",
        "          <input type=\"text\" id=\"name\" name=\"name\" required>\n",
        "          <label for=\"email\">Email:</label>\n",
        "          <input type=\"email\" id=\"email\" name=\"email\" required>\n",
        "          <label for=\"message\">Message:</label>\n",
        "          <textarea id=\"message\" name=\"message\" required></textarea>\n",
        "          <button type=\"submit\">Submit</button>\n",
        "        </form>\n",
        "      </section>\n",
        "    </main>\n",
        "    <footer>\n",
        "      <p>&copy; 2023 My Website. All rights reserved.</p>\n",
        "    </footer>\n",
        "  </body>\n",
        "</html>\n",
        "```"
      ],
      "metadata": {
        "id": "lJ4oNW2YglNb"
      }
    },
    {
      "cell_type": "markdown",
      "source": [
        "<!DOCTYPE html>\n",
        "<html>\n",
        "  <head>\n",
        "    <title>Example HTML Page</title>\n",
        "    <meta charset=\"UTF-8\">\n",
        "    <meta name=\"viewport\" content=\"width=device-width, initial-scale=1.0\">\n",
        "    <link rel=\"stylesheet\" href=\"style.css\">\n",
        "  </head>\n",
        "  <body>\n",
        "    <header>\n",
        "      <h1>My Website</h1>\n",
        "      <nav>\n",
        "        <ul>\n",
        "          <li><a href=\"#about\">About</a></li>\n",
        "          <li><a href=\"#services\">Services</a></li>\n",
        "          <li><a href=\"#contact\">Contact</a></li>\n",
        "        </ul>\n",
        "      </nav>\n",
        "    </header>\n",
        "    <main>\n",
        "      <section id=\"about\">\n",
        "        <h2>About Us</h2>\n",
        "        <p>Lorem ipsum dolor sit amet, consectetur adipiscing elit.</p>\n",
        "        <img src=\"https://github.com/PandukaBandara99/Full-Stack-Books/blob/main/image.jpg?raw=1\" alt=\"Image\">\n",
        "      </section>\n",
        "      <section id=\"services\">\n",
        "        <h2>Our Services</h2>\n",
        "        <ul>\n",
        "          <li>Web Design</li>\n",
        "          <li>Graphic Design</li>\n",
        "          <li>SEO</li>\n",
        "        </ul>\n",
        "      </section>\n",
        "      <section id=\"contact\">\n",
        "        <h2>Contact Us</h2>\n",
        "        <form action=\"submit-form.php\" method=\"post\">\n",
        "          <label for=\"name\">Name:</label>\n",
        "          <input type=\"text\" id=\"name\" name=\"name\" required>\n",
        "          <label for=\"email\">Email:</label>\n",
        "          <input type=\"email\" id=\"email\" name=\"email\" required>\n",
        "          <label for=\"message\">Message:</label>\n",
        "          <textarea id=\"message\" name=\"message\" required></textarea>\n",
        "          <button type=\"submit\">Submit</button>\n",
        "        </form>\n",
        "      </section>\n",
        "    </main>\n",
        "    <footer>\n",
        "      <p>&copy; 2023 My Website. All rights reserved.</p>\n",
        "    </footer>\n",
        "  </body>\n",
        "</html>\n"
      ],
      "metadata": {
        "id": "Ah91QYCmgw48"
      }
    }
  ]
}