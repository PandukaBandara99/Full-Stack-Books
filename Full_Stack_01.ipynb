{
  "nbformat": 4,
  "nbformat_minor": 0,
  "metadata": {
    "colab": {
      "provenance": [],
      "toc_visible": true,
      "authorship_tag": "ABX9TyN/Q1/M94ThNTKzOpFT6JkL",
      "include_colab_link": true
    },
    "kernelspec": {
      "name": "python3",
      "display_name": "Python 3"
    },
    "language_info": {
      "name": "python"
    }
  },
  "cells": [
    {
      "cell_type": "markdown",
      "metadata": {
        "id": "view-in-github",
        "colab_type": "text"
      },
      "source": [
        "<a href=\"https://colab.research.google.com/github/PandukaBandara99/Full-Stack-Books/blob/main/Full_Stack_01.ipynb\" target=\"_parent\"><img src=\"https://colab.research.google.com/assets/colab-badge.svg\" alt=\"Open In Colab\"/></a>"
      ]
    },
    {
      "cell_type": "markdown",
      "source": [
        "Mahela Panduka Bandara ; <br> UG @ Dpt. of Electronic & Electrical Engineering ;<br> University of Peradeniya ;<br> 2023/05 <br><br> Email : e19039@end.pdn.ac.lk <br> LinkedIN : https://www.linkedin.com/in/pandukabandara/"
      ],
      "metadata": {
        "id": "IlLztkyhRd4U"
      }
    },
    {
      "cell_type": "markdown",
      "source": [
        "References:\n",
        "01. https://www.coursera.org/professional-certificates/ibm-full-stack-cloud-developer"
      ],
      "metadata": {
        "id": "krGjs4J9R96N"
      }
    },
    {
      "cell_type": "markdown",
      "source": [
        "# 1.0 Introduction to Cloud Computing\n",
        "\n"
      ],
      "metadata": {
        "id": "3jcmryqXRifk"
      }
    },
    {
      "cell_type": "markdown",
      "source": [
        "Cloud computing is a technology that enables users to access computing resources, such as servers, storage, applications, and services, over the internet. It offers businesses and individuals the ability to access powerful computing resources on demand, without the need for expensive hardware or infrastructure. The cloud allows for scalability, flexibility, and cost-efficiency."
      ],
      "metadata": {
        "id": "FJDT1I_3Ru0W"
      }
    },
    {
      "cell_type": "markdown",
      "source": [
        "## Technical Terms"
      ],
      "metadata": {
        "id": "3993GkIoSkAd"
      }
    },
    {
      "cell_type": "markdown",
      "source": [
        "The following technical terms and technologies are commonly associated with cloud computing:\n",
        "\n",
        "1. **Infrastructure as a Service (IaaS):** IaaS provides virtualized computing resources, such as servers, storage, and networking, on a pay-per-use basis. This allows businesses to easily scale their computing resources up or down as needed.\n",
        "\n",
        "2. **Platform as a Service (PaaS):** PaaS provides a complete platform for developing, running, and managing applications. This includes the underlying infrastructure, as well as tools and services for building, testing, and deploying applications.\n",
        "\n",
        "3. **Software as a Service (SaaS):** SaaS provides access to software applications over the internet, on a subscription basis. This eliminates the need for businesses to purchase and maintain their own software and hardware.\n",
        "\n",
        "3. **Public cloud:** Public cloud services are provided by third-party providers, and are available to anyone who wants to use them. Public cloud services are often used for non-sensitive workloads, such as web hosting and email.\n",
        "\n",
        "4. **Private cloud:** Private cloud services are provided by a single organization, and are not available to the public. Private clouds are often used for sensitive workloads, such as financial transactions and medical records.\n",
        "\n",
        "5. **Hybrid cloud:** Hybrid cloud services combine public and private cloud services, allowing organizations to keep sensitive data on their private cloud while still taking advantage of the cost savings and scalability of public cloud services.\n",
        "\n",
        "6. **Virtualization:** Virtualization is a technology that allows multiple virtual machines (VMs) to run on a single physical machine. This allows for better resource utilization and flexibility, and is a key component of cloud computing."
      ],
      "metadata": {
        "id": "gFdnJozSSuHE"
      }
    },
    {
      "cell_type": "markdown",
      "source": [
        "## Cloud Computing Architecture "
      ],
      "metadata": {
        "id": "D6pCzwDmTvev"
      }
    },
    {
      "cell_type": "markdown",
      "source": [
        "The main components of a cloud computing architecture are:\n",
        "\n",
        "1. **Clients:** Clients are devices that connect to the cloud, such as desktop computers, laptops, tablets, and smartphones. Clients use web browsers or specialized software to access cloud resources and services.\n",
        "\n",
        "2. **Frontend:** The frontend of a cloud computing architecture is the user interface that clients use to access cloud resources and services. It can be a web interface or a specialized application that interacts with the backend of the cloud.\n",
        "\n",
        "3. **Backend:** The backend of a cloud computing architecture consists of several components that work together to provide cloud resources and services. These components include:\n",
        "\n",
        "  **a.  Virtualization layer:** This layer creates virtual machines (VMs) that run on the physical servers of the cloud provider. Virtualization allows multiple VMs to run on the same physical server, which increases resource utilization and reduces costs.\n",
        "\n",
        " **b. Compute layer:** This layer provides the computing power needed to run applications and services in the cloud. It includes servers, storage, and networking components.\n",
        "\n",
        " **c. Storage layer:** This layer provides the storage resources needed to store data in the cloud. It includes several types of storage, such as block storage, file storage, and object storage.\n",
        "\n",
        " **d.** Network layer: This layer provides the networking infrastructure needed to connect the different components of the cloud computing architecture. It includes routers, switches, load balancers, and firewalls.\n",
        "\n",
        "4. Middleware: Middleware is software that connects the frontend and backend of the cloud computing architecture. It provides services such as authentication, data caching, and message queuing.\n",
        "\n",
        "5. Cloud services: Cloud services are the applications and services that run on the cloud. They can be provided by the cloud provider or by third-party developers. Cloud services can include storage services, database services, messaging services, and machine learning services."
      ],
      "metadata": {
        "id": "B_esoWFDTx8l"
      }
    },
    {
      "cell_type": "markdown",
      "source": [
        "## Elments of Cloud Security"
      ],
      "metadata": {
        "id": "kVoipqqkUYUn"
      }
    },
    {
      "cell_type": "markdown",
      "source": [
        "1. **Identity and Access Management (IAM):** IAM is a crucial element of cloud security that governs who has access to the cloud environment and what level of access they have. IAM systems include user authentication, authorization, and access control mechanisms.\n",
        "\n",
        "2. **Encryption:** Encryption is the process of converting data into an unreadable format, which can only be decrypted using a secret key. Encryption is used to protect data in transit and at rest, ensuring that data is not accessible to unauthorized users.\n",
        "\n",
        "3. **Network Security:** Network security involves securing the cloud infrastructure's network components, such as routers, switches, and firewalls. This includes implementing secure network protocols, such as Transport Layer Security (TLS), and using firewalls to prevent unauthorized access.\n",
        "\n",
        "4. **Application Security:** Application security involves securing cloud applications and services against cyber-attacks, such as SQL injection and cross-site scripting. Application security measures include input validation, access controls, and secure coding practices.\n",
        "\n",
        "5. **Physical Security:** Physical security involves securing the cloud infrastructure's physical components, such as servers and storage devices. This includes implementing access controls, surveillance, and other physical security measures.\n",
        "\n",
        "6. **Incident Response:** Incident response is a set of procedures for responding to security incidents, such as data breaches or cyber-attacks. It involves detecting, analyzing, and mitigating security threats to prevent further damage.\n",
        "\n",
        "7. **Compliance:** Compliance involves adhering to regulatory and industry standards, such as HIPAA, PCI DSS, and GDPR. Cloud providers must comply with these standards to ensure that customer data is protected."
      ],
      "metadata": {
        "id": "zNw8FyayUfwm"
      }
    },
    {
      "cell_type": "markdown",
      "source": [
        "# 2.0 Introduction to Web Development with HTML, CSS, JavaScript"
      ],
      "metadata": {
        "id": "3I6kuELPU3GM"
      }
    },
    {
      "cell_type": "markdown",
      "source": [
        "## HTML"
      ],
      "metadata": {
        "id": "n5wF5x_rU_-X"
      }
    },
    {
      "cell_type": "markdown",
      "source": [
        "HTML (Hypertext Markup Language) is the standard language used to create web pages and applications. It provides the structure and content of a webpage through a series of tags and attributes, allowing developers to create and format text, images, videos, and other media elements on the web."
      ],
      "metadata": {
        "id": "-255dXUyVPVG"
      }
    },
    {
      "cell_type": "markdown",
      "source": [
        "### 1.1  DOCTYPE"
      ],
      "metadata": {
        "id": "Yv603f_KWHkb"
      }
    },
    {
      "cell_type": "markdown",
      "source": [
        "The <!DOCTYPE html> declaration is an essential part of an HTML document that specifies the document type and version being used. It helps web browsers to interpret the HTML code correctly and display the webpage as intended. The HTML5 standard introduced the simplified <!DOCTYPE html> declaration, which is now the recommended method for declaring the document type. "
      ],
      "metadata": {
        "id": "fiUZpZsSWL2t"
      }
    },
    {
      "cell_type": "markdown",
      "source": [
        "### 1.2 HTML Basics"
      ],
      "metadata": {
        "id": "_LsRmEOuWT2g"
      }
    },
    {
      "cell_type": "markdown",
      "source": [
        "HTML Basic refers to the core set of HTML tags that are essential for creating a basic webpage"
      ],
      "metadata": {
        "id": "bOMI1ELaWv35"
      }
    },
    {
      "cell_type": "markdown",
      "source": [
        "1. ```<html>:``` This tag indicates the beginning and end of the HTML document.\n",
        "\n",
        "   ```\n",
        "  <html>\n",
        "     <!-- Your HTML code here -->\n",
        "  </html>\n",
        "  ```\n",
        "2. ```<head>:``` This tag contains the metadata about the webpage, including the title, character set, and other important information.\n",
        "\n",
        "  ```\n",
        "  <head>\n",
        "     <title>My Webpage</title>\n",
        "     <meta charset=\"UTF-8\">\n",
        "  </head>\n",
        "  ```\n",
        "3. ```<body>:``` This tag contains the visible content of the webpage, including text, images, and other media elements.\n",
        "\n",
        "  ```\n",
        "  <body>\n",
        "    <h1>Welcome to my webpage</h1>\n",
        "    <p>This is a paragraph of text.</p>\n",
        "    <img src=\"image.jpg\" alt=\"Image Description\">\n",
        "  </body>\n",
        "  ```\n",
        "\n",
        "4. ```<h1> - <h6>:``` These tags are used for headings and subheadings.\n",
        "\n",
        "  ```\n",
        "    <h1>Main Heading</h1>\n",
        "    <h2>Subheading</h2>\n",
        "  ```\n",
        "5. ```<p>:``` This tag is used to create paragraphs of text.\n",
        "\n",
        "  ```\n",
        "    <p>This is a paragraph of text.</p>\n",
        "  ```\n",
        "\n",
        "6. ```<a>: This tag is used to create hyperlinks.```\n",
        "\n",
        "  ```\n",
        "    <a href=\"https://www.example.com\">Click here to visit example.com</a>\n",
        "  ```\n",
        "\n",
        "7. ```<img>:``` This tag is used to insert images into the webpage.\n",
        "\n",
        "  ```\n",
        "   <img src=\"image.jpg\" alt=\"Image Description\">\n",
        "  ```"
      ],
      "metadata": {
        "id": "T3_GBgmdWzhD"
      }
    }
  ]
}